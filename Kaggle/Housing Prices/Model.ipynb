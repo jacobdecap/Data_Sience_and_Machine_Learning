{
 "cells": [
  {
   "cell_type": "code",
   "execution_count": 1,
   "id": "8787d272-a87e-4292-8b9e-e2ccb6d5fbd1",
   "metadata": {},
   "outputs": [],
   "source": [
    "import numpy as np\n",
    "import pandas as pd\n",
    "import matplotlib.pyplot as plt"
   ]
  },
  {
   "cell_type": "code",
   "execution_count": 2,
   "id": "fd0924e0-0574-4a11-92a4-de401b13e8aa",
   "metadata": {},
   "outputs": [],
   "source": [
    "train = pd.read_csv('train.csv')\n",
    "test = pd.read_csv('test.csv')"
   ]
  },
  {
   "cell_type": "code",
   "execution_count": 3,
   "id": "96b85f4b-c3f9-44b2-8acd-257d6b442c22",
   "metadata": {},
   "outputs": [],
   "source": [
    "columns_to_drop = ['PoolQC','Fence','MiscFeature','FireplaceQu','Alley','Id']\n",
    "train = train.drop(columns_to_drop, axis = 1)\n",
    "test = test.drop(columns_to_drop, axis = 1)"
   ]
  },
  {
   "cell_type": "code",
   "execution_count": 4,
   "id": "8ba8c575-f5ab-4287-a2a3-f8cece0c467b",
   "metadata": {},
   "outputs": [],
   "source": [
    "test['LotFrontage'] = test['LotFrontage'].fillna(test['LotFrontage'].mean())\n",
    "test['MasVnrArea'] = test['MasVnrArea'].fillna(test['MasVnrArea'].mean())\n",
    "train['LotFrontage'] = train['LotFrontage'].fillna(train['LotFrontage'].mean())\n",
    "train['MasVnrArea'] = train['MasVnrArea'].fillna(train['MasVnrArea'].mean())"
   ]
  },
  {
   "cell_type": "code",
   "execution_count": 5,
   "id": "0a2bcd37-3c1c-46ce-af43-28569a3c5e52",
   "metadata": {},
   "outputs": [],
   "source": [
    "for col in list(test):\n",
    "    test[col] = test[col].fillna(test[col].mode()[0])\n",
    "for col in list(train):\n",
    "    train[col] = train[col].fillna(train[col].mode()[0])"
   ]
  },
  {
   "cell_type": "code",
   "execution_count": 6,
   "id": "672576df-d908-49f4-9b58-57eeeb26a3b7",
   "metadata": {},
   "outputs": [
    {
     "data": {
      "text/plain": [
       "38"
      ]
     },
     "execution_count": 6,
     "metadata": {},
     "output_type": "execute_result"
    }
   ],
   "source": [
    "list_of_cat = list(train.select_dtypes(exclude=[np.number]))\n",
    "len(list_of_cat)"
   ]
  },
  {
   "cell_type": "code",
   "execution_count": 7,
   "id": "dd2252e5-a8d1-4589-a0fb-68dee51ab440",
   "metadata": {},
   "outputs": [
    {
     "data": {
      "text/plain": [
       "(1460, 75)"
      ]
     },
     "execution_count": 7,
     "metadata": {},
     "output_type": "execute_result"
    }
   ],
   "source": [
    "train.shape"
   ]
  },
  {
   "cell_type": "code",
   "execution_count": 8,
   "id": "fa8cb736-15e3-4643-b42e-e679de21b4dd",
   "metadata": {},
   "outputs": [],
   "source": [
    "concat = pd.concat([train,test],axis = 0)\n",
    "concat.shape\n",
    "concat = concat.reset_index()\n",
    "#concat = concat.loc[~concat.index.duplicated(keep='first')]"
   ]
  },
  {
   "cell_type": "code",
   "execution_count": 9,
   "id": "7f2ebc02-9ae2-45dc-8ef4-9f133fb00697",
   "metadata": {},
   "outputs": [],
   "source": [
    "from sklearn.preprocessing import OneHotEncoder"
   ]
  },
  {
   "cell_type": "code",
   "execution_count": 10,
   "id": "728fc6fa-26f2-4f7e-badb-1b67f5460948",
   "metadata": {},
   "outputs": [],
   "source": [
    "cat_df = concat[list_of_cat]\n",
    "cat_encoder = OneHotEncoder()\n",
    "cat_sparse = cat_encoder.fit_transform(cat_df)\n",
    "cat_tran_df = pd.DataFrame(cat_sparse.toarray())\n",
    "cat_tran_df.shape\n",
    "cat_tran_df = cat_tran_df.reset_index()\n",
    "#cat_tra_df = cat_tran_df.loc[~cat_tran_df.index.duplicated(keep='first')]"
   ]
  },
  {
   "cell_type": "code",
   "execution_count": 11,
   "id": "7c1f9e81-d7fd-4ecd-afd1-60c4c4a9399e",
   "metadata": {
    "tags": []
   },
   "outputs": [
    {
     "data": {
      "text/plain": [
       "(2919, 311)"
      ]
     },
     "execution_count": 11,
     "metadata": {},
     "output_type": "execute_result"
    }
   ],
   "source": [
    "final_df = pd.concat([concat, cat_tran_df], axis = 1)\n",
    "final_df.shape"
   ]
  },
  {
   "cell_type": "code",
   "execution_count": 12,
   "id": "725b3c24-abdb-485a-8e43-bdfdc29dcdbe",
   "metadata": {},
   "outputs": [],
   "source": [
    "list_of_cat2 = list(final_df.select_dtypes(exclude=[np.number]))\n",
    "final_df = final_df.drop(list_of_cat2, axis = 1)\n",
    "final_df = final_df.loc[:,~final_df.columns.duplicated()]"
   ]
  },
  {
   "cell_type": "code",
   "execution_count": 13,
   "id": "0a32b1d4-1d27-4b31-9acb-d614d3aaf830",
   "metadata": {},
   "outputs": [],
   "source": [
    "final_df.head()\n",
    "final_df.columns = final_df.columns.astype(str)"
   ]
  },
  {
   "cell_type": "code",
   "execution_count": 14,
   "id": "b5e61de1-a658-43b0-8ba9-4fdaf6c3de57",
   "metadata": {},
   "outputs": [],
   "source": [
    "final_df = final_df.drop('index', axis = 1)"
   ]
  },
  {
   "cell_type": "code",
   "execution_count": 15,
   "id": "7bcf3175-daef-417c-83e3-864d832d0385",
   "metadata": {},
   "outputs": [],
   "source": [
    "#from sklearn.preprocessing import StandardScaler\n",
    "#std_scale = StandardScaler()\n",
    "#final_df_scaled = std_scale.fit_transform(final_df)\n",
    "#final_df_scaled = pd.DataFrame(final_df_scaled)\n",
    "#final_df_scaled.head()"
   ]
  },
  {
   "cell_type": "code",
   "execution_count": 16,
   "id": "8187aff7-cd6e-40e5-a3f2-be3ac5a3f0c1",
   "metadata": {},
   "outputs": [],
   "source": [
    "final_train = final_df.loc[:1459,:]\n",
    "final_test = final_df.loc[1460:,:]"
   ]
  },
  {
   "cell_type": "code",
   "execution_count": 17,
   "id": "586a23f5-b3ed-490c-a6a1-240c586e8783",
   "metadata": {},
   "outputs": [
    {
     "data": {
      "text/plain": [
       "0       208500.0\n",
       "1       181500.0\n",
       "2       223500.0\n",
       "3       140000.0\n",
       "4       250000.0\n",
       "          ...   \n",
       "1455    175000.0\n",
       "1456    210000.0\n",
       "1457    266500.0\n",
       "1458    142125.0\n",
       "1459    147500.0\n",
       "Name: SalePrice, Length: 1460, dtype: float64"
      ]
     },
     "execution_count": 17,
     "metadata": {},
     "output_type": "execute_result"
    }
   ],
   "source": [
    "final_train['SalePrice']"
   ]
  },
  {
   "cell_type": "code",
   "execution_count": 18,
   "id": "192abb9d-eb96-47b5-ab53-175b2bf45076",
   "metadata": {},
   "outputs": [],
   "source": [
    "final_test = final_test.drop('SalePrice',axis = 1)"
   ]
  },
  {
   "cell_type": "code",
   "execution_count": 19,
   "id": "7c4670b0-eabb-42fb-8f85-71e19e77d8f5",
   "metadata": {},
   "outputs": [],
   "source": [
    "#from sklearn.preprocessing import StandardScaler\n",
    "#std_scale = StandardScaler()\n",
    "#final_df_scaled = std_scale.fit_transform(final_df)\n",
    "#final_df_scaled = pd.DataFrame(final_df_scaled)\n",
    "#final_df_scaled.head()"
   ]
  },
  {
   "cell_type": "code",
   "execution_count": 20,
   "id": "a8d9d3d0-ba6a-4821-a485-ae71b55b0c29",
   "metadata": {},
   "outputs": [],
   "source": [
    "X_train = final_train.drop('SalePrice',axis = 1)\n",
    "y_train = final_train['SalePrice']"
   ]
  },
  {
   "cell_type": "code",
   "execution_count": 21,
   "id": "48afc2ea-ab1f-4fc3-add1-3dff3abaf1e7",
   "metadata": {},
   "outputs": [
    {
     "data": {
      "text/plain": [
       "DecisionTreeRegressor()"
      ]
     },
     "execution_count": 21,
     "metadata": {},
     "output_type": "execute_result"
    }
   ],
   "source": [
    "from sklearn.tree import DecisionTreeRegressor\n",
    "dtr = DecisionTreeRegressor()\n",
    "dtr.fit(X_train,y_train)"
   ]
  },
  {
   "cell_type": "code",
   "execution_count": 22,
   "id": "dcfc2cc5-a375-4370-b4d6-14a691e9ceb9",
   "metadata": {},
   "outputs": [
    {
     "data": {
      "text/plain": [
       "DecisionTreeClassifier()"
      ]
     },
     "execution_count": 22,
     "metadata": {},
     "output_type": "execute_result"
    }
   ],
   "source": [
    "from sklearn.tree import DecisionTreeClassifier\n",
    "dtc = DecisionTreeClassifier()\n",
    "dtc.fit(X_train,y_train)"
   ]
  },
  {
   "cell_type": "code",
   "execution_count": 23,
   "id": "e771fb3a-38ae-49b4-b31b-5f1631345128",
   "metadata": {},
   "outputs": [
    {
     "data": {
      "text/plain": [
       "XGBRegressor(base_score=0.5, booster='gbtree', colsample_bylevel=1,\n",
       "             colsample_bynode=1, colsample_bytree=1, gamma=0, gpu_id=-1,\n",
       "             importance_type='gain', interaction_constraints='',\n",
       "             learning_rate=0.300000012, max_delta_step=0, max_depth=6,\n",
       "             min_child_weight=1, missing=nan, monotone_constraints='()',\n",
       "             n_estimators=100, n_jobs=12, num_parallel_tree=1, random_state=0,\n",
       "             reg_alpha=0, reg_lambda=1, scale_pos_weight=1, subsample=1,\n",
       "             tree_method='exact', validate_parameters=1, verbosity=None)"
      ]
     },
     "execution_count": 23,
     "metadata": {},
     "output_type": "execute_result"
    }
   ],
   "source": [
    "import xgboost\n",
    "c = xgboost.XGBRegressor()\n",
    "c.fit(X_train, y_train)"
   ]
  },
  {
   "cell_type": "code",
   "execution_count": 24,
   "id": "5aee5dd4-97a1-435c-847a-fb78a45f0858",
   "metadata": {},
   "outputs": [],
   "source": [
    "pred = c.predict(final_test)"
   ]
  },
  {
   "cell_type": "code",
   "execution_count": 25,
   "id": "a2e0eeac-f380-42b7-b835-a85de5ed0195",
   "metadata": {},
   "outputs": [],
   "source": [
    "df = pd.DataFrame(pred)"
   ]
  },
  {
   "cell_type": "code",
   "execution_count": 26,
   "id": "db852d1a-7ebe-43fe-9f9d-fa34ad6d64fc",
   "metadata": {},
   "outputs": [],
   "source": [
    "df.to_csv('sub3.csv')"
   ]
  },
  {
   "cell_type": "code",
   "execution_count": null,
   "id": "0160100d-b281-4c0b-b7b2-6e657d7ffb76",
   "metadata": {},
   "outputs": [],
   "source": []
  }
 ],
 "metadata": {
  "kernelspec": {
   "display_name": "Python 3 (ipykernel)",
   "language": "python",
   "name": "python3"
  },
  "language_info": {
   "codemirror_mode": {
    "name": "ipython",
    "version": 3
   },
   "file_extension": ".py",
   "mimetype": "text/x-python",
   "name": "python",
   "nbconvert_exporter": "python",
   "pygments_lexer": "ipython3",
   "version": "3.9.6"
  }
 },
 "nbformat": 4,
 "nbformat_minor": 5
}
