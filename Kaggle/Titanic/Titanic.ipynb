{
 "cells": [
  {
   "cell_type": "code",
   "execution_count": 1,
   "id": "0c706c39",
   "metadata": {},
   "outputs": [],
   "source": [
    "import pandas as pd\n",
    "from sklearn.linear_model import SGDClassifier\n",
    "from sklearn.model_selection import train_test_split"
   ]
  },
  {
   "cell_type": "code",
   "execution_count": 2,
   "id": "ce31e195",
   "metadata": {},
   "outputs": [],
   "source": [
    "data = pd.read_csv('train.csv')\n",
    "test = pd.read_csv('test.csv')\n",
    "ids = test['PassengerId']"
   ]
  },
  {
   "cell_type": "code",
   "execution_count": 3,
   "id": "c1feddbb",
   "metadata": {},
   "outputs": [],
   "source": [
    "def clean(data):\n",
    "    \n",
    "    #Essientally a label encoder\n",
    "    #Can be done from sklearn.preprocessing.LabelEncoder()\n",
    "    gender_map = {'male':0, 'female':1}\n",
    "    embark_map = {'S':0, 'C':1, 'Q':2, 'U':3}\n",
    "    \n",
    "    \n",
    "    data = data.drop(['Ticket','Cabin','Name','PassengerId'], axis = 1)\n",
    "    data['Sex'] = data['Sex'].map(gender_map)\n",
    "    data['Age'] = data['Age'].fillna(round(data['Age'].mean()))\n",
    "    data['Age'] = data['Age']/(data['Age'].max())\n",
    "    data['Fare'] = data['Fare'].fillna(round(data['Fare'].mean()))\n",
    "    data['Fare'] = data['Fare']/data['Fare'].max()\n",
    "    \n",
    "    \n",
    "    #Fills missing data with unknown token\n",
    "    data['Embarked'] = data.Embarked.fillna('U')\n",
    "    data['Embarked'] = data.Embarked.map(embark_map)\n",
    "    \n",
    "    return data"
   ]
  },
  {
   "cell_type": "code",
   "execution_count": 4,
   "id": "2dfaad6e",
   "metadata": {},
   "outputs": [],
   "source": [
    "cleaned_data = clean(data)\n",
    "cleaned_test = clean(test)"
   ]
  },
  {
   "cell_type": "code",
   "execution_count": 5,
   "id": "881c3723",
   "metadata": {},
   "outputs": [],
   "source": [
    "y = cleaned_data['Survived']\n",
    "X = cleaned_data.drop(['Survived'], axis = 1)"
   ]
  },
  {
   "cell_type": "markdown",
   "id": "a5b7800f",
   "metadata": {},
   "source": [
    "# Stochastic Gradient Descent"
   ]
  },
  {
   "cell_type": "code",
   "execution_count": 6,
   "id": "225439b4",
   "metadata": {},
   "outputs": [
    {
     "data": {
      "text/plain": [
       "SGDClassifier(random_state=343)"
      ]
     },
     "execution_count": 6,
     "metadata": {},
     "output_type": "execute_result"
    }
   ],
   "source": [
    "X_train1, X_test1, y_train1, y_test1 = train_test_split(X, y)\n",
    "sgd_clf = SGDClassifier(random_state = 343)\n",
    "sgd_clf.fit(X_train1, y_train1)"
   ]
  },
  {
   "cell_type": "code",
   "execution_count": 7,
   "id": "e7665c4e",
   "metadata": {},
   "outputs": [
    {
     "data": {
      "text/plain": [
       "array([0.78923767, 0.75336323, 0.44594595])"
      ]
     },
     "execution_count": 7,
     "metadata": {},
     "output_type": "execute_result"
    }
   ],
   "source": [
    "from sklearn.model_selection import cross_val_score\n",
    "cross_val_score(sgd_clf, X_train1, y_train1, cv = 3, scoring = 'accuracy')"
   ]
  },
  {
   "cell_type": "markdown",
   "id": "72fb5bff",
   "metadata": {},
   "source": [
    "# Logistic Regression"
   ]
  },
  {
   "cell_type": "code",
   "execution_count": 8,
   "id": "34115f61",
   "metadata": {},
   "outputs": [],
   "source": [
    "from sklearn.linear_model import LogisticRegression\n",
    "\n",
    "y = cleaned_data['Survived']\n",
    "X = cleaned_data.drop(['Survived'], axis = 1)\n",
    "\n",
    "X_train2, X_test2, y_train2, y_test2 = train_test_split(X, y)\n",
    "\n",
    "log_reg = LogisticRegression(random_state = 343, max_iter = 10000)\n",
    "log_reg.fit(X_train2,y_train2)\n",
    "predict = log_reg.predict(X_test2)\n"
   ]
  },
  {
   "cell_type": "code",
   "execution_count": 9,
   "id": "e169b10a",
   "metadata": {},
   "outputs": [
    {
     "data": {
      "text/plain": [
       "0.7937219730941704"
      ]
     },
     "execution_count": 9,
     "metadata": {},
     "output_type": "execute_result"
    }
   ],
   "source": [
    "from sklearn.metrics import accuracy_score\n",
    "accuracy_score(y_test2,predict)"
   ]
  },
  {
   "cell_type": "code",
   "execution_count": 10,
   "id": "0ba38d37",
   "metadata": {},
   "outputs": [],
   "source": [
    "#cleaned_test.isnull().sum()\n",
    "submission = log_reg.predict(cleaned_test)\n",
    "df = pd.DataFrame({'PassengerId':ids.values,'Survived':submission})"
   ]
  },
  {
   "cell_type": "code",
   "execution_count": 11,
   "id": "263ffccd",
   "metadata": {},
   "outputs": [],
   "source": [
    "df.to_csv('submission.csv',index = False)"
   ]
  },
  {
   "cell_type": "code",
   "execution_count": null,
   "id": "fc225e80",
   "metadata": {},
   "outputs": [],
   "source": []
  }
 ],
 "metadata": {
  "kernelspec": {
   "display_name": "Python 3 (ipykernel)",
   "language": "python",
   "name": "python3"
  },
  "language_info": {
   "codemirror_mode": {
    "name": "ipython",
    "version": 3
   },
   "file_extension": ".py",
   "mimetype": "text/x-python",
   "name": "python",
   "nbconvert_exporter": "python",
   "pygments_lexer": "ipython3",
   "version": "3.9.6"
  }
 },
 "nbformat": 4,
 "nbformat_minor": 5
}
