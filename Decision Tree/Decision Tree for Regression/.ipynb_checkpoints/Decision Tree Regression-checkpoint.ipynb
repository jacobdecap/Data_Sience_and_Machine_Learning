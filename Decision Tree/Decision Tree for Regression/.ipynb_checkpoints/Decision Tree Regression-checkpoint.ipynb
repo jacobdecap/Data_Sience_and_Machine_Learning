{
 "cells": [
  {
   "cell_type": "markdown",
   "id": "d02bdf79",
   "metadata": {},
   "source": [
    "# Decision Tree Regression"
   ]
  },
  {
   "cell_type": "code",
   "execution_count": 109,
   "id": "11b45b6e",
   "metadata": {},
   "outputs": [],
   "source": [
    "from sklearn.tree import DecisionTreeRegressor\n",
    "from sklearn.metrics import accuracy_score\n",
    "from sklearn.model_selection import train_test_split\n",
    "import pandas as pd\n",
    "import numpy as np"
   ]
  },
  {
   "cell_type": "code",
   "execution_count": 132,
   "id": "2a2f516d",
   "metadata": {},
   "outputs": [],
   "source": [
    "#Get data\n",
    "data = pd.read_csv('auto-mpg.csv')\n",
    "X = data.drop('mpg',axis = 1) #float64\n",
    "y = data['mpg'] #float64\n",
    "\n",
    "#Now we want to split the origin column up a bit\n",
    "#since 1 = US, 2=EU and 3=Asia we can make a mapping\n",
    "\n",
    "#After the following 3 maps we will get 3 new columns: 'origin_US','origin_Europ', and 'origin_Asia'\n",
    "mapUS = {1:1,2:0,3:0}\n",
    "X['origin_US'] = data['origin'].map(mapUS)\n",
    "\n",
    "mapEU = {1:0,2:1,3:0}\n",
    "X['origin_Europe']=data['origin'].map(mapEU)\n",
    "\n",
    "mapAsia = {1:0,2:0,3:1}\n",
    "X['origin_Asia']=data['origin'].map(mapAsia)\n",
    "\n",
    "\n",
    "#We also will not be utilizing the 'cylinders', 'model year', 'horsepower', and 'car name' columns.\n",
    "#Furthermore, we drop 'origin' column as we do not need it anymore\n",
    "X = X.drop(['cylinders', 'model year', 'car name','origin','horsepower'],axis = 1)\n"
   ]
  },
  {
   "cell_type": "code",
   "execution_count": 124,
   "id": "deab3ce0",
   "metadata": {},
   "outputs": [],
   "source": [
    "SEED = np.random.seed(343)"
   ]
  },
  {
   "cell_type": "code",
   "execution_count": 125,
   "id": "1ac7a711",
   "metadata": {},
   "outputs": [],
   "source": [
    "#Split Data\n",
    "X_train,X_test,y_train,y_test = train_test_split(X,y,test_size = .2,random_state = SEED)"
   ]
  },
  {
   "cell_type": "code",
   "execution_count": 126,
   "id": "a243212a",
   "metadata": {},
   "outputs": [
    {
     "data": {
      "text/plain": [
       "DecisionTreeRegressor(max_depth=8, min_samples_leaf=0.13)"
      ]
     },
     "execution_count": 126,
     "metadata": {},
     "output_type": "execute_result"
    }
   ],
   "source": [
    "#dtr: Decision Tree Regressor\n",
    "dtr = DecisionTreeRegressor(max_depth = 8, min_samples_leaf = .13)\n",
    "\n",
    "#fit model to training set\n",
    "dtr.fit(X_train,y_train)"
   ]
  },
  {
   "cell_type": "markdown",
   "id": "86581671",
   "metadata": {},
   "source": [
    "## DTR Error vs Linear"
   ]
  },
  {
   "cell_type": "code",
   "execution_count": 130,
   "id": "241c04e2",
   "metadata": {},
   "outputs": [
    {
     "name": "stdout",
     "output_type": "stream",
     "text": [
      "Test set RMSE of dt: 3.69\n"
     ]
    }
   ],
   "source": [
    "from sklearn.metrics import mean_squared_error as MSE\n",
    "\n",
    "\n",
    "y_pred_dtr = dtr.predict(X_test)\n",
    "mse_dtr = MSE(y_pred_dtr,y_test)\n",
    "rmse_dtr = mse_dtr**(1/2)\n",
    "print(\"Test set RMSE of dt: {:.2f}\".format(rmse_dtr))"
   ]
  },
  {
   "cell_type": "code",
   "execution_count": 138,
   "id": "4723e864",
   "metadata": {},
   "outputs": [
    {
     "name": "stdout",
     "output_type": "stream",
     "text": [
      "Test set RMSE of dt: 3.87\n"
     ]
    }
   ],
   "source": [
    "from sklearn import linear_model\n",
    "\n",
    "lr = linear_model.LinearRegression()\n",
    "lr.fit(X_train,y_train)\n",
    "y_pred_lr = lr.predict(X_test)\n",
    "mse_lr = MSE(y_pred_lr,y_test)\n",
    "rmse_lr = mse_lr ** (1/2)\n",
    "print(\"Test set RMSE of dt: {:.2f}\".format(rmse_lr))"
   ]
  }
 ],
 "metadata": {
  "kernelspec": {
   "display_name": "Python 3 (ipykernel)",
   "language": "python",
   "name": "python3"
  },
  "language_info": {
   "codemirror_mode": {
    "name": "ipython",
    "version": 3
   },
   "file_extension": ".py",
   "mimetype": "text/x-python",
   "name": "python",
   "nbconvert_exporter": "python",
   "pygments_lexer": "ipython3",
   "version": "3.9.6"
  }
 },
 "nbformat": 4,
 "nbformat_minor": 5
}
